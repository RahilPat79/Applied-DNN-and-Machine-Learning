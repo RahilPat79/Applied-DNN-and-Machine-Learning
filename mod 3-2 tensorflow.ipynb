{
 "cells": [
  {
   "cell_type": "code",
   "execution_count": 1,
   "metadata": {
    "collapsed": true
   },
   "outputs": [],
   "source": [
    "import tensorflow as tf\n",
    "import numpy as np\n"
   ]
  },
  {
   "cell_type": "code",
   "execution_count": 11,
   "metadata": {},
   "outputs": [
    {
     "name": "stderr",
     "output_type": "stream",
     "text": [
      "C:\\Users\\rahil\\Anaconda3\\lib\\site-packages\\tensorflow\\python\\client\\session.py:1711: UserWarning: An interactive session is already active. This can cause out-of-memory errors in some cases. You must explicitly call `InteractiveSession.close()` to release resources held by the other session(s).\n",
      "  warnings.warn('An interactive session is already active. This can '\n"
     ]
    }
   ],
   "source": [
    "import PIL.Image\n",
    "from io import BytesIO\n",
    "from IPython.display import Image, display\n",
    "\n",
    "def DisplayFractal(a,fmt='jpeg'):\n",
    "    \"\"\"Display an array of counts as a \n",
    "    colorful picture of a fractal\"\"\"\n",
    "    a_cyclic = (6.028*a/20.0).reshape(list(a.shape)+[1])\n",
    "    img = np.concatenate([10+20*np.cos(a_cyclic),\n",
    "                         30+50*np.sin(a_cyclic),\n",
    "                         155-80*np.cos(a_cyclic)],2)\n",
    "    img[a==a.max()]=0\n",
    "    a=img\n",
    "    a=np.uint8(np.clip(a,0,255))\n",
    "    f=BytesIO()\n",
    "    PIL.Image.fromarray(a).save(f,fmt)\n",
    "    display(Image(data=f.getvalue()))\n",
    "    \n",
    "sess = tf.InteractiveSession()"
   ]
  },
  {
   "cell_type": "code",
   "execution_count": 12,
   "metadata": {},
   "outputs": [
    {
     "data": {
      "image/jpeg": "[encoded data removed]",
      "text/plain": [
       "<IPython.core.display.Image object>"
      ]
     },
     "metadata": {},
     "output_type": "display_data"
    }
   ],
   "source": [
    "Y,X=np.mgrid[-1.3:1.3:0.005, -2:1:0.005]\n",
    "Z=X+1j*Y\n",
    "xs=tf.constant(Z.astype(np.complex64))\n",
    "zs=tf.Variable(xs)\n",
    "ns=tf.Variable(tf.zeros_like(xs,tf.float32))\n",
    "tf.global_variables_initializer().run()\n",
    "zs_ = zs*zs + xs\n",
    "not_diverged = tf.abs(zs_)<4\n",
    "\n",
    "step=tf.group(\n",
    "    zs.assign(zs_),\n",
    "    ns.assign_add(tf.cast(not_diverged,tf.float32))\n",
    "    )\n",
    "for i in range(200): step.run()\n",
    "DisplayFractal(ns.eval())\n"
   ]
  },
  {
   "cell_type": "code",
   "execution_count": 18,
   "metadata": {},
   "outputs": [
    {
     "name": "stdout",
     "output_type": "stream",
     "text": [
      "Tensor(\"Const_15:0\", shape=(1, 2), dtype=float32)\n",
      "[array([[ 12.]], dtype=float32)]\n"
     ]
    }
   ],
   "source": [
    "matrix1 = tf.constant([[3.,3.]])\n",
    "matrix2=tf.constant([[2.],[2.]])\n",
    "product=tf.matmul(matrix1,matrix2)\n",
    "with tf.Session() as sess:\n",
    "    results = sess.run([product])\n",
    "    print(results)"
   ]
  },
  {
   "cell_type": "code",
   "execution_count": 19,
   "metadata": {},
   "outputs": [
    {
     "name": "stdout",
     "output_type": "stream",
     "text": [
      "[-2. -1.]\n"
     ]
    }
   ],
   "source": [
    "x=tf.Variable([1.0, 2.0])\n",
    "a=tf.constant([3.0, 3.0])\n",
    "x.initializer.run()\n",
    "sub = tf.subtract(x, a)\n",
    "print(sub.eval())\n"
   ]
  },
  {
   "cell_type": "code",
   "execution_count": 24,
   "metadata": {},
   "outputs": [
    {
     "name": "stdout",
     "output_type": "stream",
     "text": [
      "[ 1.  3.]\n"
     ]
    },
    {
     "name": "stderr",
     "output_type": "stream",
     "text": [
      "C:\\Users\\rahil\\Anaconda3\\lib\\site-packages\\tensorflow\\python\\client\\session.py:1711: UserWarning: An interactive session is already active. This can cause out-of-memory errors in some cases. You must explicitly call `InteractiveSession.close()` to release resources held by the other session(s).\n",
      "  warnings.warn('An interactive session is already active. This can '\n"
     ]
    }
   ],
   "source": [
    "sess=tf.InteractiveSession()\n",
    "sess.run(x.assign([4.0,6.0]))\n",
    "print(sub.eval())\n",
    "sess.close()"
   ]
  },
  {
   "cell_type": "code",
   "execution_count": null,
   "metadata": {
    "collapsed": true
   },
   "outputs": [],
   "source": []
  }
 ],
 "metadata": {
  "kernelspec": {
   "display_name": "Python 3",
   "language": "python",
   "name": "python3"
  },
  "language_info": {
   "codemirror_mode": {
    "name": "ipython",
    "version": 3
   },
   "file_extension": ".py",
   "mimetype": "text/x-python",
   "name": "python",
   "nbconvert_exporter": "python",
   "pygments_lexer": "ipython3",
   "version": "3.6.3"
  }
 },
 "nbformat": 4,
 "nbformat_minor": 2
}
